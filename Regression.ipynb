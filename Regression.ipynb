{
 "cells": [
  {
   "cell_type": "code",
   "execution_count": 17,
   "metadata": {},
   "outputs": [],
   "source": [
    "import string\n",
    "import unicodedata\n",
    "import sys\n",
    "import collections\n",
    "import random\n",
    "import math\n",
    "import os\n",
    "from collections import Counter\n",
    "from ast import literal_eval\n",
    "import regex as re\n",
    "import pickle\n",
    "from functools import reduce\n",
    "from datetime import datetime \n",
    "\n",
    "import pandas as pd\n",
    "import numpy as np\n",
    "import matplotlib.pyplot as plt\n",
    "\n",
    "import xgboost as xgb\n",
    "from IPython.display import display\n",
    "\n",
    "from sklearn.model_selection import train_test_split\n",
    "from sklearn.feature_extraction.text import TfidfVectorizer\n",
    "from sklearn.linear_model import LogisticRegression\n",
    "from sklearn.naive_bayes import BernoulliNB\n",
    "from sklearn.ensemble import RandomForestClassifier\n",
    "from sklearn.metrics import explained_variance_score\n",
    "\n",
    "from nltk.corpus import stopwords\n",
    "from nltk import word_tokenize\n",
    "from nltk.stem import PorterStemmer\n",
    "from nltk.stem.wordnet import WordNetLemmatizer\n",
    "\n",
    "import tensorflow as tf\n",
    "from keras.models import Sequential, Model, load_model\n",
    "from keras.layers import (  Dense, Conv1D, Activation, MaxPool1D, \n",
    "                            Embedding, Flatten, Reshape, concatenate, \n",
    "                            Input, Dropout, LSTM, AveragePooling1D, Masking )\n",
    "from keras import optimizers\n",
    "from keras import backend as K\n",
    "from keras.callbacks import ModelCheckpoint, EarlyStopping\n",
    "import h5py as h5py\n",
    "\n",
    "%matplotlib inline"
   ]
  },
  {
   "cell_type": "markdown",
   "metadata": {},
   "source": [
    "## Merging data into a single dataframe"
   ]
  },
  {
   "cell_type": "code",
   "execution_count": 21,
   "metadata": {},
   "outputs": [
    {
     "data": {
      "text/html": [
       "<div>\n",
       "<style scoped>\n",
       "    .dataframe tbody tr th:only-of-type {\n",
       "        vertical-align: middle;\n",
       "    }\n",
       "\n",
       "    .dataframe tbody tr th {\n",
       "        vertical-align: top;\n",
       "    }\n",
       "\n",
       "    .dataframe thead th {\n",
       "        text-align: right;\n",
       "    }\n",
       "</style>\n",
       "<table border=\"1\" class=\"dataframe\">\n",
       "  <thead>\n",
       "    <tr style=\"text-align: right;\">\n",
       "      <th></th>\n",
       "      <th>Difference</th>\n",
       "      <th>date</th>\n",
       "      <th>nextClose</th>\n",
       "      <th>nextDay</th>\n",
       "      <th>prevClose</th>\n",
       "      <th>prevDay</th>\n",
       "      <th>text</th>\n",
       "      <th>SYM</th>\n",
       "    </tr>\n",
       "  </thead>\n",
       "  <tbody>\n",
       "    <tr>\n",
       "      <th>0</th>\n",
       "      <td>-1.30</td>\n",
       "      <td>2011-06-08</td>\n",
       "      <td>376.55</td>\n",
       "      <td>2011-06-09</td>\n",
       "      <td>377.85</td>\n",
       "      <td>2011-06-07</td>\n",
       "      <td>Airtel commences 3G services in J&amp;K</td>\n",
       "      <td>MERGEAIRTEL</td>\n",
       "    </tr>\n",
       "    <tr>\n",
       "      <th>1</th>\n",
       "      <td>5.35</td>\n",
       "      <td>2011-06-13</td>\n",
       "      <td>379.30</td>\n",
       "      <td>2011-06-14</td>\n",
       "      <td>373.95</td>\n",
       "      <td>2011-06-10</td>\n",
       "      <td>Airtel dances to African tune, sees more 3G li...</td>\n",
       "      <td>MERGEAIRTEL</td>\n",
       "    </tr>\n",
       "    <tr>\n",
       "      <th>2</th>\n",
       "      <td>3.80</td>\n",
       "      <td>2011-06-16</td>\n",
       "      <td>380.55</td>\n",
       "      <td>2011-06-17</td>\n",
       "      <td>376.75</td>\n",
       "      <td>2011-06-15</td>\n",
       "      <td>TCIL may approach company law board against Bh...</td>\n",
       "      <td>MERGEAIRTEL</td>\n",
       "    </tr>\n",
       "    <tr>\n",
       "      <th>3</th>\n",
       "      <td>20.20</td>\n",
       "      <td>2011-06-17</td>\n",
       "      <td>389.85</td>\n",
       "      <td>2011-06-20</td>\n",
       "      <td>369.65</td>\n",
       "      <td>2011-06-16</td>\n",
       "      <td>Malkani bullish on Bharti Airtel</td>\n",
       "      <td>MERGEAIRTEL</td>\n",
       "    </tr>\n",
       "    <tr>\n",
       "      <th>4</th>\n",
       "      <td>20.20</td>\n",
       "      <td>2011-06-17</td>\n",
       "      <td>389.85</td>\n",
       "      <td>2011-06-20</td>\n",
       "      <td>369.65</td>\n",
       "      <td>2011-06-16</td>\n",
       "      <td>Hold Bharti Airtel: Angel Broking</td>\n",
       "      <td>MERGEAIRTEL</td>\n",
       "    </tr>\n",
       "  </tbody>\n",
       "</table>\n",
       "</div>"
      ],
      "text/plain": [
       "   Difference        date  nextClose     nextDay  prevClose     prevDay  \\\n",
       "0       -1.30  2011-06-08     376.55  2011-06-09     377.85  2011-06-07   \n",
       "1        5.35  2011-06-13     379.30  2011-06-14     373.95  2011-06-10   \n",
       "2        3.80  2011-06-16     380.55  2011-06-17     376.75  2011-06-15   \n",
       "3       20.20  2011-06-17     389.85  2011-06-20     369.65  2011-06-16   \n",
       "4       20.20  2011-06-17     389.85  2011-06-20     369.65  2011-06-16   \n",
       "\n",
       "                                                text          SYM  \n",
       "0                Airtel commences 3G services in J&K  MERGEAIRTEL  \n",
       "1  Airtel dances to African tune, sees more 3G li...  MERGEAIRTEL  \n",
       "2  TCIL may approach company law board against Bh...  MERGEAIRTEL  \n",
       "3                   Malkani bullish on Bharti Airtel  MERGEAIRTEL  \n",
       "4                  Hold Bharti Airtel: Angel Broking  MERGEAIRTEL  "
      ]
     },
     "execution_count": 21,
     "metadata": {},
     "output_type": "execute_result"
    }
   ],
   "source": [
    "df = pd.DataFrame()\n",
    "\n",
    "for filename in os.listdir(os.path.join('Data')):\n",
    "    if filename[-3:] == 'csv':\n",
    "        stockDF = pd.read_csv(os.path.join(os.getcwd(), 'Data', filename), sep='|')\n",
    "        stockDF['SYM'] = filename[:-4]\n",
    "        df = df.append(stockDF, ignore_index=True)   \n",
    "    \n",
    "df.head()"
   ]
  },
  {
   "cell_type": "code",
   "execution_count": 22,
   "metadata": {},
   "outputs": [
    {
     "data": {
      "text/html": [
       "<div>\n",
       "<style scoped>\n",
       "    .dataframe tbody tr th:only-of-type {\n",
       "        vertical-align: middle;\n",
       "    }\n",
       "\n",
       "    .dataframe tbody tr th {\n",
       "        vertical-align: top;\n",
       "    }\n",
       "\n",
       "    .dataframe thead th {\n",
       "        text-align: right;\n",
       "    }\n",
       "</style>\n",
       "<table border=\"1\" class=\"dataframe\">\n",
       "  <thead>\n",
       "    <tr style=\"text-align: right;\">\n",
       "      <th></th>\n",
       "      <th>Difference</th>\n",
       "      <th>nextClose</th>\n",
       "      <th>prevClose</th>\n",
       "    </tr>\n",
       "  </thead>\n",
       "  <tbody>\n",
       "    <tr>\n",
       "      <th>count</th>\n",
       "      <td>30045.000000</td>\n",
       "      <td>30045.000000</td>\n",
       "      <td>30045.000000</td>\n",
       "    </tr>\n",
       "    <tr>\n",
       "      <th>mean</th>\n",
       "      <td>-2.832062</td>\n",
       "      <td>1089.146976</td>\n",
       "      <td>1091.979038</td>\n",
       "    </tr>\n",
       "    <tr>\n",
       "      <th>std</th>\n",
       "      <td>91.934622</td>\n",
       "      <td>775.223777</td>\n",
       "      <td>778.694248</td>\n",
       "    </tr>\n",
       "    <tr>\n",
       "      <th>min</th>\n",
       "      <td>-2648.650000</td>\n",
       "      <td>162.050000</td>\n",
       "      <td>155.900000</td>\n",
       "    </tr>\n",
       "    <tr>\n",
       "      <th>25%</th>\n",
       "      <td>-12.100000</td>\n",
       "      <td>405.950000</td>\n",
       "      <td>405.850000</td>\n",
       "    </tr>\n",
       "    <tr>\n",
       "      <th>50%</th>\n",
       "      <td>0.950000</td>\n",
       "      <td>938.000000</td>\n",
       "      <td>934.250000</td>\n",
       "    </tr>\n",
       "    <tr>\n",
       "      <th>75%</th>\n",
       "      <td>14.900000</td>\n",
       "      <td>1436.400000</td>\n",
       "      <td>1445.050000</td>\n",
       "    </tr>\n",
       "    <tr>\n",
       "      <th>max</th>\n",
       "      <td>303.050000</td>\n",
       "      <td>4365.900000</td>\n",
       "      <td>4359.850000</td>\n",
       "    </tr>\n",
       "  </tbody>\n",
       "</table>\n",
       "</div>"
      ],
      "text/plain": [
       "         Difference     nextClose     prevClose\n",
       "count  30045.000000  30045.000000  30045.000000\n",
       "mean      -2.832062   1089.146976   1091.979038\n",
       "std       91.934622    775.223777    778.694248\n",
       "min    -2648.650000    162.050000    155.900000\n",
       "25%      -12.100000    405.950000    405.850000\n",
       "50%        0.950000    938.000000    934.250000\n",
       "75%       14.900000   1436.400000   1445.050000\n",
       "max      303.050000   4365.900000   4359.850000"
      ]
     },
     "execution_count": 22,
     "metadata": {},
     "output_type": "execute_result"
    }
   ],
   "source": [
    "df.describe()"
   ]
  },
  {
   "cell_type": "markdown",
   "metadata": {},
   "source": [
    "## Data Cleaning Functions\n",
    "\n",
    "- Delete stopwords, punctuation, number, lemmatize words"
   ]
  },
  {
   "cell_type": "code",
   "execution_count": 23,
   "metadata": {
    "collapsed": true
   },
   "outputs": [],
   "source": [
    "stops = stopwords.words('english')\n",
    "porter = PorterStemmer()\n",
    "lemma = WordNetLemmatizer()\n",
    "\n",
    "tbl = dict.fromkeys(i for i in range(sys.maxunicode)\n",
    "                      if unicodedata.category(chr(i)).startswith('P') or i == 36 or i == ord('`'))\n",
    "\n",
    "\n",
    "def remove_punctuation(text):\n",
    "    '''\n",
    "    From https://stackoverflow.com/questions/11066400/remove-punctuation-from-unicode-formatted-strings\n",
    "\n",
    "    '''\n",
    "    return text.translate(tbl)\n",
    "\n",
    "\n",
    "def remove_stopwords(text, ret_format='str'):\n",
    "    tokens = filter(lambda x: x not in stops, map(porter.stem, word_tokenize(text)))\n",
    "    if ret_format == 'list':\n",
    "        return list(tokens)\n",
    "    elif ret_format == 'str':\n",
    "        return ' '.join(tokens)\n",
    "    else:\n",
    "        raise Exception('Invalid format')\n",
    "\n",
    "\n",
    "def restore_arr(a):\n",
    "    '''\n",
    "        Converts strings to python list\n",
    "        \n",
    "        params:\n",
    "            a: String -> Input string to be converted to array\n",
    "        return:\n",
    "            list\n",
    "        \n",
    "        Usage with pandas:\n",
    "            train_mod = pd.read_csv('modified_train.csv', converters={'description_norm': restore_arr})\n",
    "    '''\n",
    "    return [x.replace(\"'\", \"\") for x in a[:-1][1:].split(', ')]\n",
    "        \n",
    "    \n",
    "\n",
    "def restore_int_arr(a):\n",
    "    return [int(x.replace(\"'\", \"\")) for x in a[:-1][1:].split(', ')]\n",
    "    \n",
    "\n",
    "def restore_float_arr(a):\n",
    "    ret = [float(x.replace(\"'\", \"\")) for x in a[:-1][1:].split(', ')]\n",
    "    if len(ret) == 1:\n",
    "        return ret[0]\n",
    "    else:\n",
    "        return ret\n",
    "    \n",
    "def lemmatize(a):\n",
    "    return [lemma.lemmatize(x) for x in a.split()]\n",
    "\n",
    "def remove_numbers(a):\n",
    "    ans = []\n",
    "    for s in a.split():\n",
    "        try:\n",
    "            g = int(s)\n",
    "        except ValueError:\n",
    "            ans.append(s)\n",
    "            \n",
    "    return ' '.join(ans)"
   ]
  },
  {
   "cell_type": "code",
   "execution_count": 24,
   "metadata": {
    "collapsed": true
   },
   "outputs": [],
   "source": [
    "df['text_norm'] = df['text']\\\n",
    "                    .apply(str.lower)\\\n",
    "                    .apply(remove_punctuation)\\\n",
    "                    .apply(remove_numbers)\\\n",
    "                    .apply(remove_stopwords)\\\n",
    "                    .apply(lambda x: x.split())"
   ]
  },
  {
   "cell_type": "code",
   "execution_count": 25,
   "metadata": {
    "collapsed": true
   },
   "outputs": [],
   "source": [
    "df['date'] = df['date'].apply(lambda x: datetime.strptime(x, '%Y-%m-%d'))"
   ]
  },
  {
   "cell_type": "code",
   "execution_count": 26,
   "metadata": {
    "collapsed": true
   },
   "outputs": [],
   "source": [
    "df['target'] = (df['Difference'] > 0).astype('int')"
   ]
  },
  {
   "cell_type": "code",
   "execution_count": 27,
   "metadata": {
    "scrolled": true
   },
   "outputs": [],
   "source": [
    "last_date = datetime.strptime('2016 Dec 31', '%Y %b %d')\n",
    "train = df.copy(deep=True)\n",
    "\n",
    "means = train['Difference'].mean()\n",
    "std = train['Difference'].std()\n",
    "\n",
    "train['Difference'] = (train['Difference']-train['Difference'].mean())/train['Difference'].std()"
   ]
  },
  {
   "cell_type": "markdown",
   "metadata": {},
   "source": [
    "## Attempt 2: XGBoost "
   ]
  },
  {
   "cell_type": "code",
   "execution_count": 28,
   "metadata": {},
   "outputs": [],
   "source": [
    "from sklearn.feature_extraction.text import CountVectorizer, TfidfVectorizer\n",
    "count_vect = TfidfVectorizer()\n",
    "X = count_vect.fit_transform(train['text'])\n",
    "X.toarray()\n",
    "\n",
    "x_train, x_test, y_train, y_test = train_test_split(\n",
    "                                        X, \n",
    "                                        train['Difference'], \n",
    "                                        test_size=0.1, \n",
    "                                        random_state=4)"
   ]
  },
  {
   "cell_type": "code",
   "execution_count": 29,
   "metadata": {},
   "outputs": [
    {
     "data": {
      "text/plain": [
       "XGBRegressor(base_score=0.5, booster='gbtree', colsample_bylevel=1,\n",
       "       colsample_bytree=1, gamma=0, learning_rate=0.09, max_delta_step=0,\n",
       "       max_depth=100, min_child_weight=1, missing=None, n_estimators=100,\n",
       "       n_jobs=1, nthread=None, objective='reg:linear', random_state=0,\n",
       "       reg_alpha=0, reg_lambda=1, scale_pos_weight=1, seed=None,\n",
       "       silent=True, subsample=0.75)"
      ]
     },
     "execution_count": 29,
     "metadata": {},
     "output_type": "execute_result"
    }
   ],
   "source": [
    "xgbModel = xgb.XGBRegressor(n_estimators=100, learning_rate=0.09, gamma=0, subsample=0.75,\n",
    "                           colsample_bytree=1, max_depth=100, objective='reg:linear')\n",
    "\n",
    "xgbModel.fit(x_train,y_train)"
   ]
  },
  {
   "cell_type": "markdown",
   "metadata": {},
   "source": [
    "### XGBoost"
   ]
  },
  {
   "cell_type": "code",
   "execution_count": 30,
   "metadata": {},
   "outputs": [
    {
     "name": "stdout",
     "output_type": "stream",
     "text": [
      "-1.55771311079\n"
     ]
    }
   ],
   "source": [
    "p = xgbModel.predict(x_test)\n",
    "print(explained_variance_score(p,y_test))\n",
    "# for pp, yy in zip(p, y_test):\n",
    "#     print(pp, \" -> \", yy)\n",
    "# for pp, yy in zip(p, y_test):\n",
    "#     print((pp*std + means), \" -> \", (yy*std + means))"
   ]
  },
  {
   "cell_type": "code",
   "execution_count": 31,
   "metadata": {},
   "outputs": [
    {
     "name": "stdout",
     "output_type": "stream",
     "text": [
      "(30045, 11812)\n"
     ]
    },
    {
     "data": {
      "text/html": [
       "<div>\n",
       "<style scoped>\n",
       "    .dataframe tbody tr th:only-of-type {\n",
       "        vertical-align: middle;\n",
       "    }\n",
       "\n",
       "    .dataframe tbody tr th {\n",
       "        vertical-align: top;\n",
       "    }\n",
       "\n",
       "    .dataframe thead th {\n",
       "        text-align: right;\n",
       "    }\n",
       "</style>\n",
       "<table border=\"1\" class=\"dataframe\">\n",
       "  <thead>\n",
       "    <tr style=\"text-align: right;\">\n",
       "      <th></th>\n",
       "      <th>Difference</th>\n",
       "      <th>date</th>\n",
       "      <th>nextClose</th>\n",
       "      <th>nextDay</th>\n",
       "      <th>prevClose</th>\n",
       "      <th>prevDay</th>\n",
       "      <th>text</th>\n",
       "      <th>SYM</th>\n",
       "      <th>text_norm</th>\n",
       "      <th>target</th>\n",
       "      <th>predict</th>\n",
       "    </tr>\n",
       "  </thead>\n",
       "  <tbody>\n",
       "    <tr>\n",
       "      <th>0</th>\n",
       "      <td>0.016665</td>\n",
       "      <td>2011-06-08</td>\n",
       "      <td>376.55</td>\n",
       "      <td>2011-06-09</td>\n",
       "      <td>377.85</td>\n",
       "      <td>2011-06-07</td>\n",
       "      <td>Airtel commences 3G services in J&amp;K</td>\n",
       "      <td>MERGEAIRTEL</td>\n",
       "      <td>[airtel, commenc, 3g, servic, jk]</td>\n",
       "      <td>0</td>\n",
       "      <td>25.030433</td>\n",
       "    </tr>\n",
       "    <tr>\n",
       "      <th>1</th>\n",
       "      <td>0.088999</td>\n",
       "      <td>2011-06-13</td>\n",
       "      <td>379.30</td>\n",
       "      <td>2011-06-14</td>\n",
       "      <td>373.95</td>\n",
       "      <td>2011-06-10</td>\n",
       "      <td>Airtel dances to African tune, sees more 3G li...</td>\n",
       "      <td>MERGEAIRTEL</td>\n",
       "      <td>[airtel, danc, african, tune, see, 3g, licens]</td>\n",
       "      <td>1</td>\n",
       "      <td>1.877295</td>\n",
       "    </tr>\n",
       "    <tr>\n",
       "      <th>2</th>\n",
       "      <td>0.072139</td>\n",
       "      <td>2011-06-16</td>\n",
       "      <td>380.55</td>\n",
       "      <td>2011-06-17</td>\n",
       "      <td>376.75</td>\n",
       "      <td>2011-06-15</td>\n",
       "      <td>TCIL may approach company law board against Bh...</td>\n",
       "      <td>MERGEAIRTEL</td>\n",
       "      <td>[tcil, may, approach, compani, law, board, bha...</td>\n",
       "      <td>1</td>\n",
       "      <td>2.023366</td>\n",
       "    </tr>\n",
       "    <tr>\n",
       "      <th>3</th>\n",
       "      <td>0.250527</td>\n",
       "      <td>2011-06-17</td>\n",
       "      <td>389.85</td>\n",
       "      <td>2011-06-20</td>\n",
       "      <td>369.65</td>\n",
       "      <td>2011-06-16</td>\n",
       "      <td>Malkani bullish on Bharti Airtel</td>\n",
       "      <td>MERGEAIRTEL</td>\n",
       "      <td>[malkani, bullish, bharti, airtel]</td>\n",
       "      <td>1</td>\n",
       "      <td>20.305157</td>\n",
       "    </tr>\n",
       "    <tr>\n",
       "      <th>4</th>\n",
       "      <td>0.250527</td>\n",
       "      <td>2011-06-17</td>\n",
       "      <td>389.85</td>\n",
       "      <td>2011-06-20</td>\n",
       "      <td>369.65</td>\n",
       "      <td>2011-06-16</td>\n",
       "      <td>Hold Bharti Airtel: Angel Broking</td>\n",
       "      <td>MERGEAIRTEL</td>\n",
       "      <td>[hold, bharti, airtel, angel, broke]</td>\n",
       "      <td>1</td>\n",
       "      <td>-0.388998</td>\n",
       "    </tr>\n",
       "  </tbody>\n",
       "</table>\n",
       "</div>"
      ],
      "text/plain": [
       "   Difference       date  nextClose     nextDay  prevClose     prevDay  \\\n",
       "0    0.016665 2011-06-08     376.55  2011-06-09     377.85  2011-06-07   \n",
       "1    0.088999 2011-06-13     379.30  2011-06-14     373.95  2011-06-10   \n",
       "2    0.072139 2011-06-16     380.55  2011-06-17     376.75  2011-06-15   \n",
       "3    0.250527 2011-06-17     389.85  2011-06-20     369.65  2011-06-16   \n",
       "4    0.250527 2011-06-17     389.85  2011-06-20     369.65  2011-06-16   \n",
       "\n",
       "                                                text          SYM  \\\n",
       "0                Airtel commences 3G services in J&K  MERGEAIRTEL   \n",
       "1  Airtel dances to African tune, sees more 3G li...  MERGEAIRTEL   \n",
       "2  TCIL may approach company law board against Bh...  MERGEAIRTEL   \n",
       "3                   Malkani bullish on Bharti Airtel  MERGEAIRTEL   \n",
       "4                  Hold Bharti Airtel: Angel Broking  MERGEAIRTEL   \n",
       "\n",
       "                                           text_norm  target    predict  \n",
       "0                  [airtel, commenc, 3g, servic, jk]       0  25.030433  \n",
       "1     [airtel, danc, african, tune, see, 3g, licens]       1   1.877295  \n",
       "2  [tcil, may, approach, compani, law, board, bha...       1   2.023366  \n",
       "3                 [malkani, bullish, bharti, airtel]       1  20.305157  \n",
       "4               [hold, bharti, airtel, angel, broke]       1  -0.388998  "
      ]
     },
     "execution_count": 31,
     "metadata": {},
     "output_type": "execute_result"
    }
   ],
   "source": [
    "print(X.shape)\n",
    "p = xgbModel.predict(X)\n",
    "# for i, j in zip(p, [(pp*std + means) for pp in p]):\n",
    "#     print(i,\"->\",j)\n",
    "# print()\n",
    "train['predict'] = [(pp*std + means) for pp in p] \n",
    "train.head()"
   ]
  },
  {
   "cell_type": "code",
   "execution_count": 32,
   "metadata": {
    "collapsed": true
   },
   "outputs": [],
   "source": [
    "train.to_csv('Main.csv', sep='|', index=False)"
   ]
  },
  {
   "cell_type": "markdown",
   "metadata": {},
   "source": [
    "# Conclusions:\n",
    "\n",
    "- The neural network model shows promise, however requires a much larger dataset than the approx. 30000 news headlines scraped\n",
    "- XGboost performs significantly better with the smaller dataset (63% accuracy on the validation set)\n",
    "- This indicates that it is possible to make a model for predicting the rise or fall of stock prices to better than random chance, especially if a larger and more diverse dataset is obtained"
   ]
  }
 ],
 "metadata": {
  "kernelspec": {
   "display_name": "Python 3",
   "language": "python",
   "name": "python3"
  },
  "language_info": {
   "codemirror_mode": {
    "name": "ipython",
    "version": 3
   },
   "file_extension": ".py",
   "mimetype": "text/x-python",
   "name": "python",
   "nbconvert_exporter": "python",
   "pygments_lexer": "ipython3",
   "version": "3.5.2"
  }
 },
 "nbformat": 4,
 "nbformat_minor": 2
}
