{
 "cells": [
  {
   "cell_type": "code",
   "execution_count": 2,
   "metadata": {},
   "outputs": [
    {
     "data": {
      "text/html": [
       "<div>\n",
       "<style scoped>\n",
       "    .dataframe tbody tr th:only-of-type {\n",
       "        vertical-align: middle;\n",
       "    }\n",
       "\n",
       "    .dataframe tbody tr th {\n",
       "        vertical-align: top;\n",
       "    }\n",
       "\n",
       "    .dataframe thead th {\n",
       "        text-align: right;\n",
       "    }\n",
       "</style>\n",
       "<table border=\"1\" class=\"dataframe\">\n",
       "  <thead>\n",
       "    <tr style=\"text-align: right;\">\n",
       "      <th></th>\n",
       "      <th>Difference</th>\n",
       "      <th>date</th>\n",
       "      <th>nextClose</th>\n",
       "      <th>nextDay</th>\n",
       "      <th>prevClose</th>\n",
       "      <th>prevDay</th>\n",
       "      <th>text</th>\n",
       "    </tr>\n",
       "  </thead>\n",
       "  <tbody>\n",
       "    <tr>\n",
       "      <th>0</th>\n",
       "      <td>-1.30</td>\n",
       "      <td>2011-06-08</td>\n",
       "      <td>376.55</td>\n",
       "      <td>2011-06-09</td>\n",
       "      <td>377.85</td>\n",
       "      <td>2011-06-07</td>\n",
       "      <td>Airtel commences 3G services in J&amp;K</td>\n",
       "    </tr>\n",
       "    <tr>\n",
       "      <th>1</th>\n",
       "      <td>5.35</td>\n",
       "      <td>2011-06-13</td>\n",
       "      <td>379.30</td>\n",
       "      <td>2011-06-14</td>\n",
       "      <td>373.95</td>\n",
       "      <td>2011-06-10</td>\n",
       "      <td>Airtel dances to African tune, sees more 3G li...</td>\n",
       "    </tr>\n",
       "    <tr>\n",
       "      <th>2</th>\n",
       "      <td>3.80</td>\n",
       "      <td>2011-06-16</td>\n",
       "      <td>380.55</td>\n",
       "      <td>2011-06-17</td>\n",
       "      <td>376.75</td>\n",
       "      <td>2011-06-15</td>\n",
       "      <td>TCIL may approach company law board against Bh...</td>\n",
       "    </tr>\n",
       "    <tr>\n",
       "      <th>3</th>\n",
       "      <td>20.20</td>\n",
       "      <td>2011-06-17</td>\n",
       "      <td>389.85</td>\n",
       "      <td>2011-06-20</td>\n",
       "      <td>369.65</td>\n",
       "      <td>2011-06-16</td>\n",
       "      <td>Malkani bullish on Bharti Airtel</td>\n",
       "    </tr>\n",
       "    <tr>\n",
       "      <th>4</th>\n",
       "      <td>20.20</td>\n",
       "      <td>2011-06-17</td>\n",
       "      <td>389.85</td>\n",
       "      <td>2011-06-20</td>\n",
       "      <td>369.65</td>\n",
       "      <td>2011-06-16</td>\n",
       "      <td>Hold Bharti Airtel: Angel Broking</td>\n",
       "    </tr>\n",
       "  </tbody>\n",
       "</table>\n",
       "</div>"
      ],
      "text/plain": [
       "   Difference        date  nextClose     nextDay  prevClose     prevDay  \\\n",
       "0       -1.30  2011-06-08     376.55  2011-06-09     377.85  2011-06-07   \n",
       "1        5.35  2011-06-13     379.30  2011-06-14     373.95  2011-06-10   \n",
       "2        3.80  2011-06-16     380.55  2011-06-17     376.75  2011-06-15   \n",
       "3       20.20  2011-06-17     389.85  2011-06-20     369.65  2011-06-16   \n",
       "4       20.20  2011-06-17     389.85  2011-06-20     369.65  2011-06-16   \n",
       "\n",
       "                                                text  \n",
       "0                Airtel commences 3G services in J&K  \n",
       "1  Airtel dances to African tune, sees more 3G li...  \n",
       "2  TCIL may approach company law board against Bh...  \n",
       "3                   Malkani bullish on Bharti Airtel  \n",
       "4                  Hold Bharti Airtel: Angel Broking  "
      ]
     },
     "execution_count": 2,
     "metadata": {},
     "output_type": "execute_result"
    }
   ],
   "source": [
    "import pandas as pd\n",
    "\n",
    "df = pd.read_csv('Merge/MERGEAIRTEL.csv', sep='|')\n",
    "df.head()"
   ]
  },
  {
   "cell_type": "code",
   "execution_count": 6,
   "metadata": {},
   "outputs": [],
   "source": [
    "df = df.sort_values(by='Difference')\n",
    "df.to_csv('Analytics/ANALAIRTEL.CSV', index=False, sep='|')"
   ]
  }
 ],
 "metadata": {
  "kernelspec": {
   "display_name": "Python 3",
   "language": "python",
   "name": "python3"
  },
  "language_info": {
   "codemirror_mode": {
    "name": "ipython",
    "version": 3
   },
   "file_extension": ".py",
   "mimetype": "text/x-python",
   "name": "python",
   "nbconvert_exporter": "python",
   "pygments_lexer": "ipython3",
   "version": "3.5.2"
  }
 },
 "nbformat": 4,
 "nbformat_minor": 2
}
