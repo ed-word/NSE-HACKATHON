{
 "cells": [
  {
   "cell_type": "code",
   "execution_count": 1,
   "metadata": {},
   "outputs": [],
   "source": [
    "import pandas as pd\n",
    "from collections import defaultdict\n",
    "from datetime import datetime\n",
    "from operator import itemgetter\n",
    "import csv\n",
    "import os\n",
    "\n"
   ]
  },
  {
   "cell_type": "code",
   "execution_count": 48,
   "metadata": {},
   "outputs": [
    {
     "name": "stdout",
     "output_type": "stream",
     "text": [
      "{'BPCL', 'INFY', 'LT', 'SBIN', 'M&M'}\n"
     ]
    }
   ],
   "source": [
    "dpath = os.path.join(os.getcwd(), 'datasets', 'EXTRA')\n",
    "l = os.listdir(dpath)\n",
    "names = set([x[24:-7] for x in l])\n",
    "print(names)\n",
    "d = {}\n",
    "\n",
    "for x in names:\n",
    "    d[x] = pd.DataFrame()\n",
    "    \n",
    "for x in l:\n",
    "    df = pd.read_csv(os.path.join(dpath, x))\n",
    "    d[x[24:-7]] = d[x[24:-7]].append(df, ignore_index=True)\n",
    "\n",
    "for x in names:\n",
    "    d[x].to_csv(os.path.join(os.getcwd(), 'datasets/NSE', '{}.csv'.format(x)), index=False)"
   ]
  },
  {
   "cell_type": "code",
   "execution_count": 49,
   "metadata": {},
   "outputs": [],
   "source": [
    "for f in names:\n",
    "    nseName = os.path.join(os.getcwd(), 'datasets/NSE', '{}.csv'.format(f))\n",
    "    mcName = os.path.join(os.getcwd(), 'datasets/MC', 'MC{}.csv'.format(f))\n",
    "    nse = pd.read_csv(nseName)\n",
    "    mc = pd.read_csv(mcName, sep='|')\n",
    "\n",
    "    # print(nse)\n",
    "    # print(mc.head())\n",
    "    nse['Date'] = nse['Date'].apply(lambda x: datetime.strptime(x, '%d-%b-%Y'))\n",
    "    mc['date'] = mc['date'].apply(lambda x: x.strip()).apply(lambda x: datetime.strptime(x, '%d %b %Y'))\n",
    "    mc = mc.sort_values(by='date')\n",
    "    # print(nse.head())\n",
    "    # print(mc.head())\n",
    "    \n",
    "    mydick = defaultdict(list)\n",
    "    Date = [[row['Date'], row['Close Price']] for i, row in nse.iterrows()]\n",
    "\n",
    "    for date, text in zip(mc['date'], mc['text']):\n",
    "        mydick['date'].append(date)\n",
    "        mydick['text'].append(text)\n",
    "        myDate = Date[:]\n",
    "        myDate.append([date, 0])\n",
    "        myDate.sort(key=itemgetter(0))\n",
    "\n",
    "        ind = myDate.index([date, 0])\n",
    "        try:\n",
    "            prevDay = myDate[ind - 1]\n",
    "        except IndexError:\n",
    "            prevDay = myDate[ind + 1]\n",
    "        try:\n",
    "            nextDay = myDate[ind + 1]\n",
    "        except IndexError:\n",
    "            nextDay = myDate[ind - 1]\n",
    "        try:\n",
    "            if prevDay[0] == date:\n",
    "                prevDay = myDate[ind - 2]\n",
    "            if nextDay[0] == date:\n",
    "                nextDay = myDate[ind + 2]\n",
    "        except IndexError:\n",
    "            pass\n",
    "        mydick['prevDay'].append(prevDay[0])\n",
    "        mydick['prevClose'].append(prevDay[1])\n",
    "        mydick['nextDay'].append(nextDay[0])\n",
    "        mydick['nextClose'].append(nextDay[1])\n",
    "        mydick['Difference'].append(nextDay[1] - prevDay[1])\n",
    "        \n",
    "    \n",
    "    df = pd.DataFrame(mydick)\n",
    "    df.to_csv(os.path.join(os.getcwd(),'datasets/Merge/MERGE' + f + '.csv'), index=False, sep='|')\n",
    "\n",
    "    "
   ]
  },
  {
   "cell_type": "code",
   "execution_count": 13,
   "metadata": {},
   "outputs": [],
   "source": [
    "mydick = defaultdict(list)\n",
    "Date = [[row['Date'], row['Close Price']] for i, row in nse.iterrows()]\n",
    "\n",
    "for date, text in zip(mc['date'], mc['text']):\n",
    "    mydick['date'].append(date)\n",
    "    mydick['text'].append(text)\n",
    "    myDate = Date[:]\n",
    "    myDate.append([date, 0])\n",
    "    myDate.sort(key=itemgetter(0))\n",
    "\n",
    "    ind = myDate.index([date, 0])\n",
    "    try:\n",
    "        prevDay = myDate[ind - 1]\n",
    "    except IndexError:\n",
    "        prevDay = myDate[ind + 1]\n",
    "    try:\n",
    "        nextDay = myDate[ind + 1]\n",
    "    except IndexError:\n",
    "        nextDay = myDate[ind - 1]\n",
    "    try:\n",
    "        if prevDay[0] == date:\n",
    "            prevDay = myDate[ind - 2]\n",
    "        if nextDay[0] == date:\n",
    "            nextDay = myDate[ind + 2]\n",
    "    except IndexError:\n",
    "        pass\n",
    "    mydick['prevDay'].append(prevDay[0])\n",
    "    mydick['prevClose'].append(prevDay[1])\n",
    "    mydick['nextDay'].append(nextDay[0])\n",
    "    mydick['nextClose'].append(nextDay[1])\n",
    "    mydick['Difference'].append(nextDay[1] - prevDay[1])\n",
    "\n",
    "# print(mydick['Difference'])\n"
   ]
  },
  {
   "cell_type": "code",
   "execution_count": 17,
   "metadata": {},
   "outputs": [],
   "source": [
    "df = pd.DataFrame(mydick)\n",
    "df.to_csv('Merge/MERGEAIRTEL.csv', index=False, sep='|')\n"
   ]
  }
 ],
 "metadata": {
  "kernelspec": {
   "display_name": "Python 3",
   "language": "python",
   "name": "python3"
  },
  "language_info": {
   "codemirror_mode": {
    "name": "ipython",
    "version": 3
   },
   "file_extension": ".py",
   "mimetype": "text/x-python",
   "name": "python",
   "nbconvert_exporter": "python",
   "pygments_lexer": "ipython3",
   "version": "3.6.1"
  }
 },
 "nbformat": 4,
 "nbformat_minor": 2
}
